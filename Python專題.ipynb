{
  "nbformat": 4,
  "nbformat_minor": 0,
  "metadata": {
    "colab": {
      "provenance": [],
      "authorship_tag": "ABX9TyMzlE5miyXCZnxREbMIJ5gp",
      "include_colab_link": true
    },
    "kernelspec": {
      "name": "python3",
      "display_name": "Python 3"
    },
    "language_info": {
      "name": "python"
    }
  },
  "cells": [
    {
      "cell_type": "markdown",
      "metadata": {
        "id": "view-in-github",
        "colab_type": "text"
      },
      "source": [
        "<a href=\"https://colab.research.google.com/github/I-Dean-Sun/Colab/blob/main/Python%E5%B0%88%E9%A1%8C.ipynb\" target=\"_parent\"><img src=\"https://colab.research.google.com/assets/colab-badge.svg\" alt=\"Open In Colab\"/></a>"
      ]
    },
    {
      "cell_type": "code",
      "execution_count": null,
      "metadata": {
        "id": "kwYYtPKVgIo3"
      },
      "outputs": [],
      "source": [
        "import re\n",
        "import requests\n",
        "from bs4 import BeautifulSoup\n",
        "\n",
        "# 發送請求\n",
        "url = 'https://wecan.tw/index.php/2018-12-02-08-34-31/2019-01-03-18-18-31/3000-basic-vocabulary'  # 要爬取的網址\n",
        "response = requests.get(url)\n",
        "\n",
        "# 解析網頁內容\n",
        "soup = BeautifulSoup(response.text, 'html.parser')\n",
        "\n",
        "# 尋找表格元素\n",
        "table = soup.find('table')\n",
        "\n",
        "# 提取表格標頭\n",
        "headers = []\n",
        "header_row = table.find('tr')\n",
        "header_cells = header_row.find_all(['th', 'td'])\n",
        "for cell in header_cells:\n",
        "    headers.append(cell.text.strip())\n",
        "\n",
        "data = []\n",
        "data_rows = table.find_all('tr')\n",
        "for row in data_rows[1:]:  # 跳過第一行（標頭行）\n",
        "    row_data = []\n",
        "    cells = row.find_all(['th', 'td'])\n",
        "    row_data = [cell.text.replace('\\xa0', '').strip() for cell in cells]\n",
        "    data.append(row_data)\n",
        "\n",
        "data_string = str(data)\n",
        "\n",
        "# 輸出結果\n",
        "\n",
        "\n",
        "\n",
        "with open('output.txt', 'w', encoding='utf-8') as file:\n",
        "    file.write(data_string) # 輸出檔案\n",
        "    file.close()\n",
        "print(\"文本已成功輸出到output.txt檔案中。\")\n",
        "\n",
        "with open('output.txt', 'r', encoding='utf-8') as file:\n",
        "    text = file.read()  # 讀取檔案\n",
        "    file.close()  \n",
        "print(text)\n",
        "english_text = re.findall(r'[a-zA-Z]+', text) # 拆解讀取檔案的英文部分\n",
        "chinese_text = re.findall(r'[\\u4e00-\\u9fff]+', text) # 拆解讀取檔案的中文部分\n",
        "\n",
        "print(\"英文部分:\", english_text) # 輸出拆解的英文部分\n",
        "print(\"中文部分:\", chinese_text) # 輸出拆解的中文部分"
      ]
    }
  ]
}