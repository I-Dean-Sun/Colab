{
  "nbformat": 4,
  "nbformat_minor": 0,
  "metadata": {
    "colab": {
      "provenance": [],
      "authorship_tag": "ABX9TyOnuYOJRO5Zl56bPC5GnLb/",
      "include_colab_link": true
    },
    "kernelspec": {
      "name": "python3",
      "display_name": "Python 3"
    },
    "language_info": {
      "name": "python"
    }
  },
  "cells": [
    {
      "cell_type": "markdown",
      "metadata": {
        "id": "view-in-github",
        "colab_type": "text"
      },
      "source": [
        "<a href=\"https://colab.research.google.com/github/I-Dean-Sun/Colab/blob/main/Python%E5%B0%88%E9%A1%8C.ipynb\" target=\"_parent\"><img src=\"https://colab.research.google.com/assets/colab-badge.svg\" alt=\"Open In Colab\"/></a>"
      ]
    },
    {
      "cell_type": "code",
      "execution_count": 37,
      "metadata": {
        "id": "kwYYtPKVgIo3",
        "colab": {
          "base_uri": "https://localhost:8080/"
        },
        "outputId": "3c25582e-d049-475a-d2bb-ecc81bb1a757"
      },
      "outputs": [
        {
          "output_type": "stream",
          "name": "stdout",
          "text": [
            "中文意思： 美, 長統, 靴, 靴子,\n",
            "請輸入剛才的英文單字及詞性，輸入0000結束遊戲：\n",
            "0000\n",
            "遊戲結束。\n"
          ]
        }
      ],
      "source": [
        "import re\n",
        "import requests\n",
        "from bs4 import BeautifulSoup\n",
        "import random\n",
        "import time\n",
        "from IPython.display import clear_output\n",
        "\n",
        "# 發送請求\n",
        "url = 'https://wecan.tw/index.php/2018-12-02-08-34-31/2019-01-03-18-18-31/3000-basic-vocabulary'  # 更換為你要爬取的網址\n",
        "response = requests.get(url)\n",
        "\n",
        "# 解析網頁內容\n",
        "soup = BeautifulSoup(response.text, 'html.parser')\n",
        "\n",
        "# 尋找表格元素\n",
        "table = soup.find('table')\n",
        "\n",
        "# 提取表格標頭\n",
        "headers = []\n",
        "header_row = table.find('tr')\n",
        "header_cells = header_row.find_all(['th', 'td'])\n",
        "for cell in header_cells:\n",
        "    headers.append(cell.text.strip())\n",
        "\n",
        "data = []\n",
        "data_rows = table.find_all('tr')\n",
        "f = ''\n",
        "for row in data_rows[1:]:  # 跳過第一行（標頭行）\n",
        "    row_data = []\n",
        "    cells = row.find_all(['th', 'td'])\n",
        "    row_data = [cell.text.replace('\\xa0','').strip() for cell in cells]\n",
        "    data.append(row_data)\n",
        "for row in data:\n",
        "  data_string = str(row)\n",
        "  english_text = re.findall(r'[a-zA-Z]+', data_string)\n",
        "  g = str(english_text).replace('\\'', '')\n",
        "  e = str(g).replace('[', '').replace(']', '')\n",
        "  chinese_text = re.findall(r'[\\u4e00-\\u9fff]+', data_string)\n",
        "  h = str(chinese_text).replace('\\'', '')\n",
        "  c = str(h).replace('[', '').replace(']', '')\n",
        "  f = f + e + ':' + c + ',' + '\\n'\n",
        "\n",
        "\n",
        "outfile = open('output.txt', 'w', encoding='utf-8')\n",
        "outfile.write(f) # 輸出檔案\n",
        "outfile.close()\n",
        "\n",
        "print(\"文本已成功輸出到output.txt檔案中。\")\n",
        "my_dict = {}\n",
        "\n",
        "with open('output.txt', 'r') as file:\n",
        "    for line in file:\n",
        "        key, value = line.strip().split(':')\n",
        "        my_dict[key] = value\n",
        "\n",
        "print(my_dict)\n",
        "\n",
        "\n",
        "# 英文單字資料庫\n",
        "word_dict = my_dict\n",
        "\n",
        "while True:\n",
        "    # 檢查單字資料庫是否為空\n",
        "    if len(word_dict) == 0:\n",
        "        print(\"單字資料庫已空，遊戲結束。\")\n",
        "        break\n",
        "\n",
        "    # 隨機選擇單字\n",
        "    word = random.choice(list(word_dict.keys()))\n",
        "\n",
        "    # 顯示單字和中文意思\n",
        "    clear_output()\n",
        "    print(\"請閱讀以下單字和中文意思：\")\n",
        "    print(\"單字：\", word)\n",
        "    print(\"中文意思：\", word_dict[word])\n",
        "\n",
        "    # 等待10秒\n",
        "    time.sleep(10)\n",
        "\n",
        "    # 清除輸出\n",
        "    clear_output()\n",
        "\n",
        "    # 提示使用者輸入英文單字\n",
        "    print(\"中文意思：\", word_dict[word])\n",
        "    print(\"請輸入剛才的英文單字及詞性，輸入0000結束遊戲：\")\n",
        "    english_word = input()\n",
        "\n",
        "    # 檢查使用者輸入的指令是否為 \"0000\"\n",
        "    if english_word == \"0000\":\n",
        "        print(\"遊戲結束。\")\n",
        "        break\n",
        "\n",
        "    # 檢查答案\n",
        "    if english_word == word:\n",
        "        print(\"答對了！\")\n",
        "        # 從單字資料庫中刪除答對的單字\n",
        "        del word_dict[word]\n",
        "        time.sleep(3)\n",
        "    else:\n",
        "        print(\"答錯了！正確答案是：\", word, \"-\", word_dict[word])\n",
        "        time.sleep(10)\n",
        "\n"
      ]
    },
    {
      "cell_type": "code",
      "source": [
        "import random\n",
        "import time\n",
        "from IPython.display import clear_output\n",
        "\n",
        "\n",
        "# 英文單字資料庫\n",
        "word_dict = my_dict\n",
        "\n",
        "while True:\n",
        "    # 檢查單字資料庫是否為空\n",
        "    if len(word_dict) == 0:\n",
        "        print(\"單字資料庫已空，遊戲結束。\")\n",
        "        break\n",
        "\n",
        "    # 隨機選擇單字\n",
        "    word = random.choice(list(word_dict.keys()))\n",
        "\n",
        "    # 顯示單字和中文意思\n",
        "    clear_output()\n",
        "    print(\"請閱讀以下單字和中文意思：\")\n",
        "    print(\"單字：\", word)\n",
        "    print(\"中文意思：\", word_dict[word])\n",
        "\n",
        "    # 等待10秒\n",
        "    time.sleep(10)\n",
        "\n",
        "    # 清除輸出\n",
        "    clear_output()\n",
        "\n",
        "    # 提示使用者輸入英文單字\n",
        "    print(\"中文意思：\", word_dict[word])\n",
        "    print(\"請輸入剛才的英文單字及詞性，輸入0000結束遊戲：\")\n",
        "    english_word = input()\n",
        "\n",
        "    # 檢查使用者輸入的指令是否為 \"0000\"\n",
        "    if english_word == \"0000\":\n",
        "        print(\"遊戲結束。\")\n",
        "        break\n",
        "\n",
        "    # 檢查答案\n",
        "    if english_word == word:\n",
        "        print(\"答對了！\")\n",
        "        # 從單字資料庫中刪除答對的單字\n",
        "        del word_dict[word]\n",
        "        time.sleep(3)\n",
        "    else:\n",
        "        print(\"答錯了！正確答案是：\", word, \"-\", word_dict[word])\n",
        "        time.sleep(10)\n",
        ""
      ],
      "metadata": {
        "colab": {
          "base_uri": "https://localhost:8080/"
        },
        "id": "ttnwL5FU5Vdb",
        "outputId": "5e62319f-ef8c-4766-9bbd-b957570f0973"
      },
      "execution_count": 36,
      "outputs": [
        {
          "output_type": "stream",
          "name": "stdout",
          "text": [
            "中文意思： 資金, 基金, 支助, 投資,\n",
            "請輸入剛才的英文單字及詞性，輸入0000結束遊戲：\n",
            "0000\n",
            "遊戲結束。\n"
          ]
        }
      ]
    }
  ]
}